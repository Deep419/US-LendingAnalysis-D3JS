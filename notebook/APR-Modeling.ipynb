{
 "cells": [
  {
   "cell_type": "markdown",
   "metadata": {},
   "source": [
    "## Landing Tree APR Modeling"
   ]
  },
  {
   "cell_type": "code",
   "execution_count": 1,
   "metadata": {},
   "outputs": [],
   "source": [
    "import time\n",
    "import pandas as pd\n",
    "import numpy as np\n",
    "from subprocess import call\n",
    "from sklearn.preprocessing import LabelEncoder\n",
    "from sklearn.model_selection import train_test_split\n",
    "from sklearn.metrics import mean_squared_error\n",
    "from sklearn.linear_model import LinearRegression\n",
    "from sklearn.neural_network import MLPRegressor\n",
    "from mpl_toolkits.mplot3d import Axes3D\n",
    "import matplotlib.pyplot as plt"
   ]
  },
  {
   "cell_type": "markdown",
   "metadata": {},
   "source": [
    "## Data Preprocessing"
   ]
  },
  {
   "cell_type": "code",
   "execution_count": 2,
   "metadata": {},
   "outputs": [
    {
     "name": "stdout",
     "output_type": "stream",
     "text": [
      "Wall time: 503 ms\n"
     ]
    }
   ],
   "source": [
    "%%time\n",
    "offer_status = pd.read_csv('data/RULO_OfferStatusChange.csv', low_memory=False)\n",
    "questioner = pd.read_csv('data/RULO_Questioner_Data.csv', low_memory=False)"
   ]
  },
  {
   "cell_type": "code",
   "execution_count": 3,
   "metadata": {},
   "outputs": [
    {
     "name": "stdout",
     "output_type": "stream",
     "text": [
      "Wall time: 10.1 s\n"
     ]
    }
   ],
   "source": [
    "%%time\n",
    "months= ['JAN','FEB','MAR','APR','MAY','JUNE', 'JULY', 'AUGUST','SEP']\n",
    "data=None\n",
    "i = 0;\n",
    "for month in months:\n",
    "    filename = \"./data/Offer_2018-\" + months[i] + \".csv\"\n",
    "    sheet_data = pd.read_csv(filename)\n",
    "    if data is None:\n",
    "        data = sheet_data\n",
    "    else:\n",
    "        data = pd.concat([data, sheet_data], axis=0)\n",
    "    i+=1\n",
    "data['AmortizationType']=data['AmortizationType'].apply(lambda x: 'Fixed' if x=='FIXED' else x)\n",
    "data.drop('Status', axis=1, inplace=True)"
   ]
  },
  {
   "cell_type": "markdown",
   "metadata": {},
   "source": [
    "**Merge all the three dataset**"
   ]
  },
  {
   "cell_type": "code",
   "execution_count": 4,
   "metadata": {},
   "outputs": [],
   "source": [
    "offer_status_prod=pd.merge(data, offer_status,on=['QuestionerId','QuotesId','OfferId'], how='inner', suffixes=['_offer','_offerProd'])\n",
    "offer_data_questioner=pd.merge(offer_status_prod, questioner,on=['QuestionerId','QuotesId'], how='inner', suffixes=['_offer','_questioner'])"
   ]
  },
  {
   "cell_type": "markdown",
   "metadata": {},
   "source": [
    "**Feature Selection**\n",
    "\n",
    "We did select features based on obvious significance and availability and try including and excluding other features to see it that improves the accuracy"
   ]
  },
  {
   "cell_type": "code",
   "execution_count": 5,
   "metadata": {},
   "outputs": [],
   "source": [
    "desired_columns = ['EstimatedCreditScore','EstimatedPropertyValue','CurrentMortgageBalance','LoanAmountRequested',\n",
    "                   'RequestedLoanTypeId','PropertyState', 'Veteran', 'PropertyTypeId', 'PropertyUse', 'IsFHALoan', \n",
    "                   'IsJumboLoan', 'IsVALoan','APRPercentage']\n",
    "\n",
    "data=offer_data_questioner[desired_columns].dropna().reset_index(drop=True)\n",
    "\n",
    "features_cols = desired_columns[:-1]\n",
    "target_col = desired_columns[-1]\n",
    "numeric_cols = desired_columns[0:4]\n",
    "#Update the propertyType amd LoanType to category which will make it easy for dummy encoding\n",
    "data.PropertyTypeId = data.PropertyTypeId.apply(lambda x: \"Type_\"+str(x))\n",
    "data.RequestedLoanTypeId = data.RequestedLoanTypeId.apply(lambda x: \"Type_\"+str(x))\n",
    "#Seperate Feature and target and perform dummy encoding the categorical column\n",
    "features = pd.get_dummies(data[features_cols])\n",
    "target = data[target_col]"
   ]
  },
  {
   "cell_type": "markdown",
   "metadata": {},
   "source": [
    "**Perform Normalization on of the numeric columns**"
   ]
  },
  {
   "cell_type": "code",
   "execution_count": 6,
   "metadata": {},
   "outputs": [],
   "source": [
    "for col in numeric_cols:\n",
    "    features[col]=(features[col]-features[col].mean())/features[col].std()"
   ]
  },
  {
   "cell_type": "markdown",
   "metadata": {},
   "source": [
    "**Data Conversion:**\n",
    "We will convert pandas dataframe to numpy array"
   ]
  },
  {
   "cell_type": "code",
   "execution_count": 7,
   "metadata": {},
   "outputs": [],
   "source": [
    "X = np.array(features)\n",
    "y = np.array(target)"
   ]
  },
  {
   "cell_type": "markdown",
   "metadata": {},
   "source": [
    "**Train Test Split**"
   ]
  },
  {
   "cell_type": "code",
   "execution_count": 8,
   "metadata": {},
   "outputs": [],
   "source": [
    "train_X, val_X, train_y, val_y = train_test_split(X, y, test_size=0.2, random_state=11)"
   ]
  },
  {
   "cell_type": "markdown",
   "metadata": {},
   "source": [
    "## Learning Model"
   ]
  },
  {
   "cell_type": "markdown",
   "metadata": {},
   "source": [
    "**Linear Regression**"
   ]
  },
  {
   "cell_type": "code",
   "execution_count": 9,
   "metadata": {},
   "outputs": [
    {
     "name": "stdout",
     "output_type": "stream",
     "text": [
      "Training MSE: 0.222\n",
      "Validation MSE: 0.213\n"
     ]
    }
   ],
   "source": [
    "lr = LinearRegression().fit(train_X, train_y)\n",
    "train_pred = lr.predict(train_X)\n",
    "train_mse = mean_squared_error(train_pred, train_y)\n",
    "print(\"Training MSE: %.3f\" %train_mse)\n",
    "\n",
    "val_pred = lr.predict(val_X)\n",
    "val_mse = mean_squared_error(val_pred, val_y)\n",
    "print(\"Validation MSE: %.3f\" %val_mse)"
   ]
  },
  {
   "cell_type": "markdown",
   "metadata": {},
   "source": [
    "**Neural Network**"
   ]
  },
  {
   "cell_type": "code",
   "execution_count": 10,
   "metadata": {},
   "outputs": [
    {
     "name": "stdout",
     "output_type": "stream",
     "text": [
      "Training MSE: 0.070\n",
      "Validation MSE: 0.069\n"
     ]
    }
   ],
   "source": [
    "mlr = MLPRegressor(hidden_layer_sizes=(100,10), activation='relu', solver='lbfgs', alpha=0.0001, batch_size=32, \n",
    "                   learning_rate='constant', learning_rate_init=0.001, max_iter=1500, \n",
    "                   random_state=11, tol=0.0001, verbose=False, warm_start=False, momentum=0.9, \n",
    "                   early_stopping=True, epsilon=1e-08)\n",
    "\n",
    "mlr.fit(X, y)\n",
    "train_pred = mlr.predict(train_X)\n",
    "train_mse = mean_squared_error(train_pred, train_y)\n",
    "print(\"Training MSE: %.3f\" %train_mse)\n",
    "\n",
    "val_pred = mlr.predict(val_X)\n",
    "val_mse = mean_squared_error(val_pred, val_y)\n",
    "print(\"Validation MSE: %.3f\" %val_mse)"
   ]
  },
  {
   "cell_type": "markdown",
   "metadata": {},
   "source": [
    "**See Some prediction of the APR on the validation data**\n",
    "\n",
    "First columns shows the the predicted APR and the second column shows actual APR"
   ]
  },
  {
   "cell_type": "code",
   "execution_count": 11,
   "metadata": {},
   "outputs": [
    {
     "data": {
      "text/plain": [
       "array([[3.85499911, 3.711     ],\n",
       "       [4.94848189, 4.787     ],\n",
       "       [4.55714265, 4.567     ],\n",
       "       [3.42446088, 3.433     ],\n",
       "       [4.38664338, 4.36      ],\n",
       "       [4.60658601, 4.627     ],\n",
       "       [4.07591409, 3.995     ],\n",
       "       [4.183947  , 4.106     ],\n",
       "       [3.61628957, 3.574     ],\n",
       "       [3.67148852, 3.764     ]])"
      ]
     },
     "execution_count": 11,
     "metadata": {},
     "output_type": "execute_result"
    }
   ],
   "source": [
    "np.hstack((val_pred.reshape(-1,1), val_y.reshape(-1,1)))[0:10]"
   ]
  },
  {
   "cell_type": "code",
   "execution_count": null,
   "metadata": {},
   "outputs": [],
   "source": []
  }
 ],
 "metadata": {
  "kernelspec": {
   "display_name": "ds36",
   "language": "python",
   "name": "ds36"
  },
  "language_info": {
   "codemirror_mode": {
    "name": "ipython",
    "version": 3
   },
   "file_extension": ".py",
   "mimetype": "text/x-python",
   "name": "python",
   "nbconvert_exporter": "python",
   "pygments_lexer": "ipython3",
   "version": "3.6.6"
  }
 },
 "nbformat": 4,
 "nbformat_minor": 2
}
